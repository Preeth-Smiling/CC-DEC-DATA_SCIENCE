{
 "cells": [
  {
   "cell_type": "code",
   "execution_count": 26,
   "id": "6d53536d",
   "metadata": {},
   "outputs": [],
   "source": [
    "import numpy as np\n",
    "import pandas as pd\n",
    "from sklearn import metrics\n",
    "%matplotlib inline\n",
    "import matplotlib.pyplot as plt"
   ]
  },
  {
   "cell_type": "code",
   "execution_count": 27,
   "id": "f3590f6b",
   "metadata": {},
   "outputs": [],
   "source": [
    "data=pd.read_excel(r'C:\\Users\\bhargav\\Downloads\\stock_market_prediction.xlsx')"
   ]
  },
  {
   "cell_type": "code",
   "execution_count": 28,
   "id": "faa57275",
   "metadata": {},
   "outputs": [
    {
     "data": {
      "text/html": [
       "<div>\n",
       "<style scoped>\n",
       "    .dataframe tbody tr th:only-of-type {\n",
       "        vertical-align: middle;\n",
       "    }\n",
       "\n",
       "    .dataframe tbody tr th {\n",
       "        vertical-align: top;\n",
       "    }\n",
       "\n",
       "    .dataframe thead th {\n",
       "        text-align: right;\n",
       "    }\n",
       "</style>\n",
       "<table border=\"1\" class=\"dataframe\">\n",
       "  <thead>\n",
       "    <tr style=\"text-align: right;\">\n",
       "      <th></th>\n",
       "      <th>Date</th>\n",
       "      <th>Open</th>\n",
       "      <th>High</th>\n",
       "      <th>Low</th>\n",
       "      <th>Close</th>\n",
       "      <th>Adj Close</th>\n",
       "      <th>Volume</th>\n",
       "    </tr>\n",
       "  </thead>\n",
       "  <tbody>\n",
       "    <tr>\n",
       "      <th>0</th>\n",
       "      <td>2004-08-27</td>\n",
       "      <td>122.800003</td>\n",
       "      <td>122.800003</td>\n",
       "      <td>119.820000</td>\n",
       "      <td>120.332497</td>\n",
       "      <td>88.088272</td>\n",
       "      <td>30646000.0</td>\n",
       "    </tr>\n",
       "    <tr>\n",
       "      <th>1</th>\n",
       "      <td>2004-08-30</td>\n",
       "      <td>121.237503</td>\n",
       "      <td>123.750000</td>\n",
       "      <td>120.625000</td>\n",
       "      <td>123.345001</td>\n",
       "      <td>90.293549</td>\n",
       "      <td>24465208.0</td>\n",
       "    </tr>\n",
       "    <tr>\n",
       "      <th>2</th>\n",
       "      <td>2004-08-31</td>\n",
       "      <td>123.312500</td>\n",
       "      <td>123.750000</td>\n",
       "      <td>122.000000</td>\n",
       "      <td>123.512497</td>\n",
       "      <td>90.416122</td>\n",
       "      <td>21194656.0</td>\n",
       "    </tr>\n",
       "    <tr>\n",
       "      <th>3</th>\n",
       "      <td>2004-09-01</td>\n",
       "      <td>123.750000</td>\n",
       "      <td>124.375000</td>\n",
       "      <td>122.949997</td>\n",
       "      <td>123.487503</td>\n",
       "      <td>90.397820</td>\n",
       "      <td>19935544.0</td>\n",
       "    </tr>\n",
       "    <tr>\n",
       "      <th>4</th>\n",
       "      <td>2004-09-02</td>\n",
       "      <td>123.737503</td>\n",
       "      <td>125.574997</td>\n",
       "      <td>123.250000</td>\n",
       "      <td>124.207497</td>\n",
       "      <td>90.924896</td>\n",
       "      <td>21356352.0</td>\n",
       "    </tr>\n",
       "  </tbody>\n",
       "</table>\n",
       "</div>"
      ],
      "text/plain": [
       "        Date        Open        High         Low       Close  Adj Close  \\\n",
       "0 2004-08-27  122.800003  122.800003  119.820000  120.332497  88.088272   \n",
       "1 2004-08-30  121.237503  123.750000  120.625000  123.345001  90.293549   \n",
       "2 2004-08-31  123.312500  123.750000  122.000000  123.512497  90.416122   \n",
       "3 2004-09-01  123.750000  124.375000  122.949997  123.487503  90.397820   \n",
       "4 2004-09-02  123.737503  125.574997  123.250000  124.207497  90.924896   \n",
       "\n",
       "       Volume  \n",
       "0  30646000.0  \n",
       "1  24465208.0  \n",
       "2  21194656.0  \n",
       "3  19935544.0  \n",
       "4  21356352.0  "
      ]
     },
     "execution_count": 28,
     "metadata": {},
     "output_type": "execute_result"
    }
   ],
   "source": [
    "data.head()"
   ]
  },
  {
   "cell_type": "code",
   "execution_count": 29,
   "id": "a577846b",
   "metadata": {},
   "outputs": [],
   "source": [
    "data['Date'] = pd.to_datetime(data.Date)"
   ]
  },
  {
   "cell_type": "code",
   "execution_count": 30,
   "id": "7fab8164",
   "metadata": {},
   "outputs": [
    {
     "data": {
      "text/plain": [
       "(4494, 7)"
      ]
     },
     "execution_count": 30,
     "metadata": {},
     "output_type": "execute_result"
    }
   ],
   "source": [
    "data.shape"
   ]
  },
  {
   "cell_type": "code",
   "execution_count": 31,
   "id": "c39d51de",
   "metadata": {},
   "outputs": [],
   "source": [
    "data.drop('Adj Close',axis =1,inplace=True)"
   ]
  },
  {
   "cell_type": "code",
   "execution_count": 32,
   "id": "8be281e1",
   "metadata": {},
   "outputs": [
    {
     "data": {
      "text/html": [
       "<div>\n",
       "<style scoped>\n",
       "    .dataframe tbody tr th:only-of-type {\n",
       "        vertical-align: middle;\n",
       "    }\n",
       "\n",
       "    .dataframe tbody tr th {\n",
       "        vertical-align: top;\n",
       "    }\n",
       "\n",
       "    .dataframe thead th {\n",
       "        text-align: right;\n",
       "    }\n",
       "</style>\n",
       "<table border=\"1\" class=\"dataframe\">\n",
       "  <thead>\n",
       "    <tr style=\"text-align: right;\">\n",
       "      <th></th>\n",
       "      <th>Date</th>\n",
       "      <th>Open</th>\n",
       "      <th>High</th>\n",
       "      <th>Low</th>\n",
       "      <th>Close</th>\n",
       "      <th>Volume</th>\n",
       "    </tr>\n",
       "  </thead>\n",
       "  <tbody>\n",
       "    <tr>\n",
       "      <th>0</th>\n",
       "      <td>2004-08-27</td>\n",
       "      <td>122.800003</td>\n",
       "      <td>122.800003</td>\n",
       "      <td>119.820000</td>\n",
       "      <td>120.332497</td>\n",
       "      <td>30646000.0</td>\n",
       "    </tr>\n",
       "    <tr>\n",
       "      <th>1</th>\n",
       "      <td>2004-08-30</td>\n",
       "      <td>121.237503</td>\n",
       "      <td>123.750000</td>\n",
       "      <td>120.625000</td>\n",
       "      <td>123.345001</td>\n",
       "      <td>24465208.0</td>\n",
       "    </tr>\n",
       "    <tr>\n",
       "      <th>2</th>\n",
       "      <td>2004-08-31</td>\n",
       "      <td>123.312500</td>\n",
       "      <td>123.750000</td>\n",
       "      <td>122.000000</td>\n",
       "      <td>123.512497</td>\n",
       "      <td>21194656.0</td>\n",
       "    </tr>\n",
       "    <tr>\n",
       "      <th>3</th>\n",
       "      <td>2004-09-01</td>\n",
       "      <td>123.750000</td>\n",
       "      <td>124.375000</td>\n",
       "      <td>122.949997</td>\n",
       "      <td>123.487503</td>\n",
       "      <td>19935544.0</td>\n",
       "    </tr>\n",
       "    <tr>\n",
       "      <th>4</th>\n",
       "      <td>2004-09-02</td>\n",
       "      <td>123.737503</td>\n",
       "      <td>125.574997</td>\n",
       "      <td>123.250000</td>\n",
       "      <td>124.207497</td>\n",
       "      <td>21356352.0</td>\n",
       "    </tr>\n",
       "  </tbody>\n",
       "</table>\n",
       "</div>"
      ],
      "text/plain": [
       "        Date        Open        High         Low       Close      Volume\n",
       "0 2004-08-27  122.800003  122.800003  119.820000  120.332497  30646000.0\n",
       "1 2004-08-30  121.237503  123.750000  120.625000  123.345001  24465208.0\n",
       "2 2004-08-31  123.312500  123.750000  122.000000  123.512497  21194656.0\n",
       "3 2004-09-01  123.750000  124.375000  122.949997  123.487503  19935544.0\n",
       "4 2004-09-02  123.737503  125.574997  123.250000  124.207497  21356352.0"
      ]
     },
     "execution_count": 32,
     "metadata": {},
     "output_type": "execute_result"
    }
   ],
   "source": [
    "data.head()"
   ]
  },
  {
   "cell_type": "code",
   "execution_count": 33,
   "id": "6e7e29a9",
   "metadata": {},
   "outputs": [
    {
     "data": {
      "text/plain": [
       "Date      0\n",
       "Open      8\n",
       "High      8\n",
       "Low       8\n",
       "Close     8\n",
       "Volume    8\n",
       "dtype: int64"
      ]
     },
     "execution_count": 33,
     "metadata": {},
     "output_type": "execute_result"
    }
   ],
   "source": [
    "data.isnull().sum()"
   ]
  },
  {
   "cell_type": "code",
   "execution_count": 34,
   "id": "f7580379",
   "metadata": {},
   "outputs": [
    {
     "data": {
      "text/plain": [
       "Date      False\n",
       "Open       True\n",
       "High       True\n",
       "Low        True\n",
       "Close      True\n",
       "Volume     True\n",
       "dtype: bool"
      ]
     },
     "execution_count": 34,
     "metadata": {},
     "output_type": "execute_result"
    }
   ],
   "source": [
    "data.isna().any()"
   ]
  },
  {
   "cell_type": "code",
   "execution_count": 35,
   "id": "1dc851fb",
   "metadata": {},
   "outputs": [],
   "source": [
    "data1 =pd.DataFrame(data)"
   ]
  },
  {
   "cell_type": "code",
   "execution_count": 36,
   "id": "71a9e6c8",
   "metadata": {},
   "outputs": [
    {
     "data": {
      "text/plain": [
       "(4494, 6)"
      ]
     },
     "execution_count": 36,
     "metadata": {},
     "output_type": "execute_result"
    }
   ],
   "source": [
    "data1.shape"
   ]
  },
  {
   "cell_type": "code",
   "execution_count": 37,
   "id": "42a7adc4",
   "metadata": {},
   "outputs": [],
   "source": [
    "dataset=data1.dropna()"
   ]
  },
  {
   "cell_type": "code",
   "execution_count": 38,
   "id": "579065db",
   "metadata": {},
   "outputs": [
    {
     "data": {
      "text/plain": [
       "(4486, 6)"
      ]
     },
     "execution_count": 38,
     "metadata": {},
     "output_type": "execute_result"
    }
   ],
   "source": [
    "dataset.shape"
   ]
  },
  {
   "cell_type": "code",
   "execution_count": 39,
   "id": "58e54ada",
   "metadata": {},
   "outputs": [
    {
     "data": {
      "text/plain": [
       "Date      0\n",
       "Open      0\n",
       "High      0\n",
       "Low       0\n",
       "Close     0\n",
       "Volume    0\n",
       "dtype: int64"
      ]
     },
     "execution_count": 39,
     "metadata": {},
     "output_type": "execute_result"
    }
   ],
   "source": [
    "dataset.isnull().sum()"
   ]
  },
  {
   "cell_type": "code",
   "execution_count": 40,
   "id": "a30afeef",
   "metadata": {},
   "outputs": [
    {
     "name": "stdout",
     "output_type": "stream",
     "text": [
      "<class 'pandas.core.frame.DataFrame'>\n",
      "Int64Index: 4486 entries, 0 to 4493\n",
      "Data columns (total 6 columns):\n",
      " #   Column  Non-Null Count  Dtype         \n",
      "---  ------  --------------  -----         \n",
      " 0   Date    4486 non-null   datetime64[ns]\n",
      " 1   Open    4486 non-null   float64       \n",
      " 2   High    4486 non-null   float64       \n",
      " 3   Low     4486 non-null   float64       \n",
      " 4   Close   4486 non-null   float64       \n",
      " 5   Volume  4486 non-null   float64       \n",
      "dtypes: datetime64[ns](1), float64(5)\n",
      "memory usage: 245.3 KB\n"
     ]
    }
   ],
   "source": [
    "dataset.info()"
   ]
  },
  {
   "cell_type": "code",
   "execution_count": 41,
   "id": "9c8acc0e",
   "metadata": {},
   "outputs": [
    {
     "data": {
      "text/html": [
       "<div>\n",
       "<style scoped>\n",
       "    .dataframe tbody tr th:only-of-type {\n",
       "        vertical-align: middle;\n",
       "    }\n",
       "\n",
       "    .dataframe tbody tr th {\n",
       "        vertical-align: top;\n",
       "    }\n",
       "\n",
       "    .dataframe thead th {\n",
       "        text-align: right;\n",
       "    }\n",
       "</style>\n",
       "<table border=\"1\" class=\"dataframe\">\n",
       "  <thead>\n",
       "    <tr style=\"text-align: right;\">\n",
       "      <th></th>\n",
       "      <th>Open</th>\n",
       "      <th>High</th>\n",
       "      <th>Low</th>\n",
       "      <th>Close</th>\n",
       "      <th>Volume</th>\n",
       "    </tr>\n",
       "  </thead>\n",
       "  <tbody>\n",
       "    <tr>\n",
       "      <th>count</th>\n",
       "      <td>4486.000000</td>\n",
       "      <td>4486.000000</td>\n",
       "      <td>4486.000000</td>\n",
       "      <td>4486.000000</td>\n",
       "      <td>4.486000e+03</td>\n",
       "    </tr>\n",
       "    <tr>\n",
       "      <th>mean</th>\n",
       "      <td>1146.182768</td>\n",
       "      <td>1158.538059</td>\n",
       "      <td>1132.825428</td>\n",
       "      <td>1145.521462</td>\n",
       "      <td>3.620596e+06</td>\n",
       "    </tr>\n",
       "    <tr>\n",
       "      <th>std</th>\n",
       "      <td>994.070086</td>\n",
       "      <td>1003.010607</td>\n",
       "      <td>984.043404</td>\n",
       "      <td>993.346465</td>\n",
       "      <td>3.162368e+06</td>\n",
       "    </tr>\n",
       "    <tr>\n",
       "      <th>min</th>\n",
       "      <td>112.000000</td>\n",
       "      <td>116.112503</td>\n",
       "      <td>103.837502</td>\n",
       "      <td>111.550003</td>\n",
       "      <td>0.000000e+00</td>\n",
       "    </tr>\n",
       "    <tr>\n",
       "      <th>25%</th>\n",
       "      <td>290.693748</td>\n",
       "      <td>295.300010</td>\n",
       "      <td>285.931259</td>\n",
       "      <td>290.275009</td>\n",
       "      <td>1.942489e+06</td>\n",
       "    </tr>\n",
       "    <tr>\n",
       "      <th>50%</th>\n",
       "      <td>977.450012</td>\n",
       "      <td>995.000000</td>\n",
       "      <td>970.250000</td>\n",
       "      <td>981.337524</td>\n",
       "      <td>2.804749e+06</td>\n",
       "    </tr>\n",
       "    <tr>\n",
       "      <th>75%</th>\n",
       "      <td>1564.774963</td>\n",
       "      <td>1597.287476</td>\n",
       "      <td>1548.662537</td>\n",
       "      <td>1576.781219</td>\n",
       "      <td>4.297410e+06</td>\n",
       "    </tr>\n",
       "    <tr>\n",
       "      <th>max</th>\n",
       "      <td>4033.949951</td>\n",
       "      <td>4043.000000</td>\n",
       "      <td>3980.000000</td>\n",
       "      <td>4019.149902</td>\n",
       "      <td>8.806715e+07</td>\n",
       "    </tr>\n",
       "  </tbody>\n",
       "</table>\n",
       "</div>"
      ],
      "text/plain": [
       "              Open         High          Low        Close        Volume\n",
       "count  4486.000000  4486.000000  4486.000000  4486.000000  4.486000e+03\n",
       "mean   1146.182768  1158.538059  1132.825428  1145.521462  3.620596e+06\n",
       "std     994.070086  1003.010607   984.043404   993.346465  3.162368e+06\n",
       "min     112.000000   116.112503   103.837502   111.550003  0.000000e+00\n",
       "25%     290.693748   295.300010   285.931259   290.275009  1.942489e+06\n",
       "50%     977.450012   995.000000   970.250000   981.337524  2.804749e+06\n",
       "75%    1564.774963  1597.287476  1548.662537  1576.781219  4.297410e+06\n",
       "max    4033.949951  4043.000000  3980.000000  4019.149902  8.806715e+07"
      ]
     },
     "execution_count": 41,
     "metadata": {},
     "output_type": "execute_result"
    }
   ],
   "source": [
    "dataset.describe()"
   ]
  },
  {
   "cell_type": "code",
   "execution_count": 42,
   "id": "766918bf",
   "metadata": {},
   "outputs": [
    {
     "name": "stdout",
     "output_type": "stream",
     "text": [
      "4486\n"
     ]
    }
   ],
   "source": [
    "print(len(dataset))"
   ]
  },
  {
   "cell_type": "code",
   "execution_count": 43,
   "id": "aa4b5135",
   "metadata": {},
   "outputs": [
    {
     "data": {
      "text/plain": [
       "<AxesSubplot:>"
      ]
     },
     "execution_count": 43,
     "metadata": {},
     "output_type": "execute_result"
    },
    {
     "data": {
      "image/png": "[encoded data removed]",
      "text/plain": [
       "<Figure size 1152x432 with 1 Axes>"
      ]
     },
     "metadata": {
      "needs_background": "light"
     },
     "output_type": "display_data"
    }
   ],
   "source": [
    "dataset['Open'].plot(figsize=(16,6))"
   ]
  },
  {
   "cell_type": "code",
   "execution_count": 44,
   "id": "b5b40dc5",
   "metadata": {
    "scrolled": true
   },
   "outputs": [],
   "source": [
    "x=dataset[['Open','High','Low','Volume']]\n",
    "y=dataset['Close']"
   ]
  },
  {
   "cell_type": "code",
   "execution_count": 45,
   "id": "0d3c25bb",
   "metadata": {},
   "outputs": [],
   "source": [
    "from sklearn.model_selection import train_test_split\n",
    "x_train , x_test , y_train , y_test=train_test_split(x,y,random_state = 0)"
   ]
  },
  {
   "cell_type": "code",
   "execution_count": 46,
   "id": "732a544d",
   "metadata": {},
   "outputs": [
    {
     "data": {
      "text/plain": [
       "(3364, 4)"
      ]
     },
     "execution_count": 46,
     "metadata": {},
     "output_type": "execute_result"
    }
   ],
   "source": [
    "x_train.shape"
   ]
  },
  {
   "cell_type": "code",
   "execution_count": 47,
   "id": "aa2a5c41",
   "metadata": {},
   "outputs": [
    {
     "data": {
      "text/plain": [
       "(1122, 4)"
      ]
     },
     "execution_count": 47,
     "metadata": {},
     "output_type": "execute_result"
    }
   ],
   "source": [
    "x_test.shape"
   ]
  },
  {
   "cell_type": "code",
   "execution_count": 48,
   "id": "925f91ce",
   "metadata": {},
   "outputs": [],
   "source": [
    "from sklearn.linear_model import LinearRegression\n",
    "from sklearn.metrics import confusion_matrix, accuracy_score\n",
    "regressor=LinearRegression()"
   ]
  },
  {
   "cell_type": "code",
   "execution_count": 49,
   "id": "480ecfcf",
   "metadata": {},
   "outputs": [
    {
     "data": {
      "text/plain": [
       "LinearRegression()"
      ]
     },
     "execution_count": 49,
     "metadata": {},
     "output_type": "execute_result"
    }
   ],
   "source": [
    "regressor.fit(x_train,y_train)"
   ]
  },
  {
   "cell_type": "code",
   "execution_count": 50,
   "id": "3104d561",
   "metadata": {},
   "outputs": [
    {
     "name": "stdout",
     "output_type": "stream",
     "text": [
      "[-5.55400220e-01  8.16541313e-01  7.38155813e-01 -1.43785466e-07]\n"
     ]
    }
   ],
   "source": [
    "print(regressor.coef_)"
   ]
  },
  {
   "cell_type": "code",
   "execution_count": 51,
   "id": "4f8fd70d",
   "metadata": {},
   "outputs": [
    {
     "name": "stdout",
     "output_type": "stream",
     "text": [
      "0.4050235457477811\n"
     ]
    }
   ],
   "source": [
    "print(regressor.intercept_)"
   ]
  },
  {
   "cell_type": "code",
   "execution_count": 52,
   "id": "de764e95",
   "metadata": {},
   "outputs": [],
   "source": [
    "predicted=regressor.predict(x_test)"
   ]
  },
  {
   "cell_type": "code",
   "execution_count": 53,
   "id": "b9cc9707",
   "metadata": {},
   "outputs": [
    {
     "name": "stdout",
     "output_type": "stream",
     "text": [
      "             Open         High          Low     Volume\n",
      "2969  1272.474976  1302.474976  1270.099976  1503374.0\n",
      "2071   633.474976   633.950012   630.000000   509580.0\n",
      "585    298.750000   301.500000   295.262512  2394400.0\n",
      "3153  1267.400024  1285.000000  1264.824951  2534548.0\n",
      "292    176.887497   179.375000   173.882507  6352952.0\n",
      "...           ...          ...          ...        ...\n",
      "2854  1168.000000  1195.500000  1150.500000  2648284.0\n",
      "2885  1201.150024  1228.525024  1201.150024  2267654.0\n",
      "1450   374.399994   374.450012   368.549988  2165596.0\n",
      "3614  2078.149902  2079.699951  2007.400024  4397518.0\n",
      "954    212.500000   216.925003   205.850006  9287176.0\n",
      "\n",
      "[1122 rows x 4 columns]\n"
     ]
    }
   ],
   "source": [
    "print(x_test)"
   ]
  },
  {
   "cell_type": "code",
   "execution_count": 54,
   "id": "ee2a04ea",
   "metadata": {},
   "outputs": [
    {
     "data": {
      "text/plain": [
       "(1122,)"
      ]
     },
     "execution_count": 54,
     "metadata": {},
     "output_type": "execute_result"
    }
   ],
   "source": [
    "predicted.shape"
   ]
  },
  {
   "cell_type": "code",
   "execution_count": 56,
   "id": "17bac05c",
   "metadata": {},
   "outputs": [],
   "source": [
    "dframe=pd.DataFrame({'Actual Price':y_test,'Predicted Price':predicted})"
   ]
  },
  {
   "cell_type": "code",
   "execution_count": 57,
   "id": "30541d65",
   "metadata": {},
   "outputs": [
    {
     "name": "stdout",
     "output_type": "stream",
     "text": [
      "      Actual Price  Predicted Price\n",
      "2969   1300.525024      1294.512286\n",
      "2071    632.075012       631.184150\n",
      "585     299.000000       298.271873\n",
      "3153   1279.574951      1279.019818\n",
      "292     177.044998       176.067688\n",
      "...            ...              ...\n",
      "2854   1186.574951      1176.740185\n",
      "2885   1225.625000      1222.737289\n",
      "1450    369.500000       369.953024\n",
      "3614   2014.500000      2025.502738\n",
      "954     211.100006       210.124721\n",
      "\n",
      "[1122 rows x 2 columns]\n"
     ]
    }
   ],
   "source": [
    "print(dframe)"
   ]
  },
  {
   "cell_type": "code",
   "execution_count": 58,
   "id": "1799bda2",
   "metadata": {},
   "outputs": [
    {
     "data": {
      "text/html": [
       "<div>\n",
       "<style scoped>\n",
       "    .dataframe tbody tr th:only-of-type {\n",
       "        vertical-align: middle;\n",
       "    }\n",
       "\n",
       "    .dataframe tbody tr th {\n",
       "        vertical-align: top;\n",
       "    }\n",
       "\n",
       "    .dataframe thead th {\n",
       "        text-align: right;\n",
       "    }\n",
       "</style>\n",
       "<table border=\"1\" class=\"dataframe\">\n",
       "  <thead>\n",
       "    <tr style=\"text-align: right;\">\n",
       "      <th></th>\n",
       "      <th>Actual Price</th>\n",
       "      <th>Predicted Price</th>\n",
       "    </tr>\n",
       "  </thead>\n",
       "  <tbody>\n",
       "    <tr>\n",
       "      <th>2969</th>\n",
       "      <td>1300.525024</td>\n",
       "      <td>1294.512286</td>\n",
       "    </tr>\n",
       "    <tr>\n",
       "      <th>2071</th>\n",
       "      <td>632.075012</td>\n",
       "      <td>631.184150</td>\n",
       "    </tr>\n",
       "    <tr>\n",
       "      <th>585</th>\n",
       "      <td>299.000000</td>\n",
       "      <td>298.271873</td>\n",
       "    </tr>\n",
       "    <tr>\n",
       "      <th>3153</th>\n",
       "      <td>1279.574951</td>\n",
       "      <td>1279.019818</td>\n",
       "    </tr>\n",
       "    <tr>\n",
       "      <th>292</th>\n",
       "      <td>177.044998</td>\n",
       "      <td>176.067688</td>\n",
       "    </tr>\n",
       "    <tr>\n",
       "      <th>3044</th>\n",
       "      <td>1103.800049</td>\n",
       "      <td>1101.499296</td>\n",
       "    </tr>\n",
       "    <tr>\n",
       "      <th>1010</th>\n",
       "      <td>202.637497</td>\n",
       "      <td>204.169378</td>\n",
       "    </tr>\n",
       "    <tr>\n",
       "      <th>4447</th>\n",
       "      <td>3401.100098</td>\n",
       "      <td>3399.380893</td>\n",
       "    </tr>\n",
       "    <tr>\n",
       "      <th>1116</th>\n",
       "      <td>117.224998</td>\n",
       "      <td>116.586472</td>\n",
       "    </tr>\n",
       "    <tr>\n",
       "      <th>4483</th>\n",
       "      <td>3118.550049</td>\n",
       "      <td>3099.692698</td>\n",
       "    </tr>\n",
       "    <tr>\n",
       "      <th>305</th>\n",
       "      <td>183.720001</td>\n",
       "      <td>183.988005</td>\n",
       "    </tr>\n",
       "    <tr>\n",
       "      <th>73</th>\n",
       "      <td>150.100006</td>\n",
       "      <td>150.347508</td>\n",
       "    </tr>\n",
       "    <tr>\n",
       "      <th>1117</th>\n",
       "      <td>120.187500</td>\n",
       "      <td>120.050213</td>\n",
       "    </tr>\n",
       "    <tr>\n",
       "      <th>3788</th>\n",
       "      <td>2231.699951</td>\n",
       "      <td>2234.616508</td>\n",
       "    </tr>\n",
       "    <tr>\n",
       "      <th>1762</th>\n",
       "      <td>518.650024</td>\n",
       "      <td>524.155097</td>\n",
       "    </tr>\n",
       "    <tr>\n",
       "      <th>224</th>\n",
       "      <td>158.845001</td>\n",
       "      <td>159.856985</td>\n",
       "    </tr>\n",
       "    <tr>\n",
       "      <th>1873</th>\n",
       "      <td>577.275024</td>\n",
       "      <td>583.649700</td>\n",
       "    </tr>\n",
       "    <tr>\n",
       "      <th>3036</th>\n",
       "      <td>1110.925049</td>\n",
       "      <td>1114.062496</td>\n",
       "    </tr>\n",
       "    <tr>\n",
       "      <th>4161</th>\n",
       "      <td>3261.399902</td>\n",
       "      <td>3273.263292</td>\n",
       "    </tr>\n",
       "    <tr>\n",
       "      <th>717</th>\n",
       "      <td>287.225006</td>\n",
       "      <td>280.305826</td>\n",
       "    </tr>\n",
       "    <tr>\n",
       "      <th>3205</th>\n",
       "      <td>1251.724976</td>\n",
       "      <td>1245.899725</td>\n",
       "    </tr>\n",
       "    <tr>\n",
       "      <th>1774</th>\n",
       "      <td>524.474976</td>\n",
       "      <td>522.763503</td>\n",
       "    </tr>\n",
       "    <tr>\n",
       "      <th>1813</th>\n",
       "      <td>566.674988</td>\n",
       "      <td>568.453535</td>\n",
       "    </tr>\n",
       "    <tr>\n",
       "      <th>2035</th>\n",
       "      <td>665.750000</td>\n",
       "      <td>664.404320</td>\n",
       "    </tr>\n",
       "    <tr>\n",
       "      <th>843</th>\n",
       "      <td>245.412506</td>\n",
       "      <td>244.953171</td>\n",
       "    </tr>\n",
       "  </tbody>\n",
       "</table>\n",
       "</div>"
      ],
      "text/plain": [
       "      Actual Price  Predicted Price\n",
       "2969   1300.525024      1294.512286\n",
       "2071    632.075012       631.184150\n",
       "585     299.000000       298.271873\n",
       "3153   1279.574951      1279.019818\n",
       "292     177.044998       176.067688\n",
       "3044   1103.800049      1101.499296\n",
       "1010    202.637497       204.169378\n",
       "4447   3401.100098      3399.380893\n",
       "1116    117.224998       116.586472\n",
       "4483   3118.550049      3099.692698\n",
       "305     183.720001       183.988005\n",
       "73      150.100006       150.347508\n",
       "1117    120.187500       120.050213\n",
       "3788   2231.699951      2234.616508\n",
       "1762    518.650024       524.155097\n",
       "224     158.845001       159.856985\n",
       "1873    577.275024       583.649700\n",
       "3036   1110.925049      1114.062496\n",
       "4161   3261.399902      3273.263292\n",
       "717     287.225006       280.305826\n",
       "3205   1251.724976      1245.899725\n",
       "1774    524.474976       522.763503\n",
       "1813    566.674988       568.453535\n",
       "2035    665.750000       664.404320\n",
       "843     245.412506       244.953171"
      ]
     },
     "execution_count": 58,
     "metadata": {},
     "output_type": "execute_result"
    }
   ],
   "source": [
    "dframe.head(25)"
   ]
  },
  {
   "cell_type": "code",
   "execution_count": 59,
   "id": "f831b9d3",
   "metadata": {},
   "outputs": [],
   "source": [
    "from sklearn.metrics import confusion_matrix, accuracy_score"
   ]
  },
  {
   "cell_type": "code",
   "execution_count": 60,
   "id": "ece61f1c",
   "metadata": {},
   "outputs": [
    {
     "data": {
      "text/plain": [
       "0.9999256251975522"
      ]
     },
     "execution_count": 60,
     "metadata": {},
     "output_type": "execute_result"
    }
   ],
   "source": [
    "regressor.score(x_test,y_test)"
   ]
  },
  {
   "cell_type": "code",
   "execution_count": 61,
   "id": "e9bf3661",
   "metadata": {},
   "outputs": [],
   "source": [
    "import math"
   ]
  },
  {
   "cell_type": "code",
   "execution_count": 62,
   "id": "8acdb07a",
   "metadata": {},
   "outputs": [
    {
     "name": "stdout",
     "output_type": "stream",
     "text": [
      "Mean Absolute Error: 4.884157320193187\n"
     ]
    }
   ],
   "source": [
    "print('Mean Absolute Error:',metrics.mean_absolute_error(y_test,predicted))"
   ]
  },
  {
   "cell_type": "code",
   "execution_count": 63,
   "id": "af8bbb4b",
   "metadata": {},
   "outputs": [
    {
     "name": "stdout",
     "output_type": "stream",
     "text": [
      "Mean Squared Error: 71.04520201777352\n"
     ]
    }
   ],
   "source": [
    "print('Mean Squared Error:',metrics.mean_squared_error(y_test,predicted))"
   ]
  },
  {
   "cell_type": "code",
   "execution_count": 64,
   "id": "e7b5ce36",
   "metadata": {},
   "outputs": [
    {
     "name": "stdout",
     "output_type": "stream",
     "text": [
      "Root Mean Squared Error: 8.428831592680774\n"
     ]
    }
   ],
   "source": [
    "print('Root Mean Squared Error:',math.sqrt(metrics.mean_squared_error(y_test,predicted)))"
   ]
  },
  {
   "cell_type": "code",
   "execution_count": 65,
   "id": "04ff8462",
   "metadata": {},
   "outputs": [],
   "source": [
    "graph=dframe.head(20)"
   ]
  },
  {
   "cell_type": "code",
   "execution_count": 66,
   "id": "bbed8886",
   "metadata": {},
   "outputs": [
    {
     "data": {
      "text/plain": [
       "<AxesSubplot:>"
      ]
     },
     "execution_count": 66,
     "metadata": {},
     "output_type": "execute_result"
    },
    {
     "data": {
      "image/png": "[encoded data removed]",
      "text/plain": [
       "<Figure size 432x288 with 1 Axes>"
      ]
     },
     "metadata": {
      "needs_background": "light"
     },
     "output_type": "display_data"
    }
   ],
   "source": [
    "graph.plot(kind='bar')"
   ]
  },
  {
   "cell_type": "code",
   "execution_count": null,
   "id": "5fbc61fd",
   "metadata": {},
   "outputs": [],
   "source": []
  }
 ],
 "metadata": {
  "kernelspec": {
   "display_name": "Python 3 (ipykernel)",
   "language": "python",
   "name": "python3"
  },
  "language_info": {
   "codemirror_mode": {
    "name": "ipython",
    "version": 3
   },
   "file_extension": ".py",
   "mimetype": "text/x-python",
   "name": "python",
   "nbconvert_exporter": "python",
   "pygments_lexer": "ipython3",
   "version": "3.9.12"
  }
 },
 "nbformat": 4,
 "nbformat_minor": 5
}
